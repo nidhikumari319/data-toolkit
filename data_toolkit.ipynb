{
  "nbformat": 4,
  "nbformat_minor": 0,
  "metadata": {
    "colab": {
      "provenance": [],
      "authorship_tag": "ABX9TyNvvWgN5HfDVlaRbJZjqogc",
      "include_colab_link": true
    },
    "kernelspec": {
      "name": "python3",
      "display_name": "Python 3"
    },
    "language_info": {
      "name": "python"
    }
  },
  "cells": [
    {
      "cell_type": "markdown",
      "metadata": {
        "id": "view-in-github",
        "colab_type": "text"
      },
      "source": [
        "<a href=\"https://colab.research.google.com/github/nidhikumari319/data-toolkit/blob/main/data_toolkit.ipynb\" target=\"_parent\"><img src=\"https://colab.research.google.com/assets/colab-badge.svg\" alt=\"Open In Colab\"/></a>"
      ]
    },
    {
      "cell_type": "markdown",
      "source": [
        "Q1.Demonstrate three different methods for creating identical 2D arrays in\n",
        "\n",
        "NumPy. Provide the code for each method and the final output after each method?\n",
        "\n",
        "ans:\n",
        "\n",
        "import numpy as np\n",
        "\n",
        "# Method 1: Using np.array()\n",
        "\n",
        "arr1 = np.array([[1, 2, 3], [4, 5, 6]])\n",
        "\n",
        "print(\"Method 1\", arr1)\n",
        "\n",
        "# Method 2: Using np.zeros() and then filling it\n",
        "\n",
        "arr2 = np.zeros((2, 3))\n",
        "\n",
        "arr2[0] = [1, 2, 3]\n",
        "\n",
        "arr2[1] = [4, 5, 6]\n",
        "\n",
        "print(\"Method 2\", arr2)\n",
        "\n",
        "# Method 3: Using np.full() to create an array with specific values\n",
        "\n",
        "arr3 = np.full((2, 3), 0)\n",
        "\n",
        "arr3[0] = [1, 2, 3]\n",
        "\n",
        "arr3[1] = [4, 5, 6]\n",
        "\n",
        "print(\"Method 3\", arr3)"
      ],
      "metadata": {
        "id": "YR-5lHa5Hw9-"
      }
    },
    {
      "cell_type": "markdown",
      "source": [
        "Q2. Using the Numpy function, generate an array of 100 evenly spaced numbers\n",
        "\n",
        "between 1 and 10 and Reshape that 1D array into a 2D array?\n",
        "\n",
        "ans:\n",
        "\n",
        "Generating 100 Evenly Spaced Numbers and Reshaping into 2D:\n",
        "\n",
        "ans:\n",
        "\n",
        "# Generate 100 evenly spaced numbers between 1 and 10\n",
        "\n",
        "arr_1d = np.linspace(1, 10, 100)\n",
        "\n",
        "print(\"1D array\", arr_1d)\n",
        "\n",
        "# Reshape into a 10x10 2D array\n",
        "\n",
        "arr_2d = arr_1d.reshape(10, 10)\n",
        "\n",
        "print(\"reshape\", arr_2d)"
      ],
      "metadata": {
        "id": "SE1ZEwpuIdRr"
      }
    },
    {
      "cell_type": "markdown",
      "source": [
        "Q3Explain the following terms?\n",
        "\n",
        ".The difference in np.array, np.asarray and np.asanyarray.\n",
        "\n",
        ". The difference between Deep copy and shallow copy.\n",
        "\n",
        "ans:\n",
        "\n",
        " Explanation of Terms:\n",
        "\n",
        "np.array vs np.asarray vs np.asanyarray:\n",
        "\n",
        "np.array(): Creates a new array, even if the input is already an array.\n",
        "\n",
        "np.asarray(): Converts input to array if it’s not already an array. If the\n",
        "\n",
        "input is already an array, it returns the same object without copying.\n",
        "\n",
        "np.asanyarray(): Similar to np.asarray(), but it allows the input to be of any\n",
        "\n",
        "array-like subtype (like matrix).\n",
        "\n",
        "Deep Copy vs Shallow Copy:\n",
        "\n",
        "Shallow Copy: Copies the references to the objects. Modifications in the\n",
        "\n",
        "original object reflect in the copy.\n",
        "\n",
        "Deep Copy: Creates a new object and recursively copies all the objects found.\n",
        "\n",
        " Modifications in the original object do not affect the deep copy.\n"
      ],
      "metadata": {
        "id": "ZMIdRtoMJCZX"
      }
    },
    {
      "cell_type": "markdown",
      "source": [
        "Q4. Generate a 3x3 array with random floating-point numbers between 5 and 20.\n",
        "\n",
        " Then, round each number in the array to 2 decimal places?\n",
        "\n",
        "ans:\n",
        "\n",
        "# Random floating-point array between 5 and 20\n",
        "\n",
        "arr_rand = np.random.uniform(5, 20, (3, 3))\n",
        "\n",
        "# Round to 2 decimal places\n",
        "\n",
        "arr_rounded = np.round(arr_rand, 2)\n",
        "\n",
        "print(\"Rounded 3x3 Array\", arr_rounded)"
      ],
      "metadata": {
        "id": "UX0CmYQrJ5_q"
      }
    },
    {
      "cell_type": "markdown",
      "source": [
        "Q5.Create a NumPy array with random integers between 1 and 10 of shape (5, 6).\n",
        "\n",
        "After creating the array perform the following operations:\n",
        "\n",
        " a)Extract all even integers from array.\n",
        "\n",
        " b)Extract all odd integers from array.\n",
        "\n",
        " ans:\n",
        "\n",
        " # Create random integer array\n",
        "\n",
        "arr_int = np.random.randint(1, 11, (5, 6))\n",
        "\n",
        "print(\"Random Integer Array\", arr_int)\n",
        "\n",
        "# Extract even integers\n",
        "\n",
        "even_ints = arr_int[arr_int % 2 == 0]\n",
        "\n",
        "print(\"\\nEven Integers:\\n\", even_ints)\n",
        "\n",
        "# Extract odd integers\n",
        "\n",
        "odd_ints = arr_int[arr_int % 2 != 0]\n",
        "\n",
        "print(\"\\nOdd Integers:\\n\", odd_ints)"
      ],
      "metadata": {
        "id": "8V2gacb4KQzi"
      }
    },
    {
      "cell_type": "markdown",
      "source": [
        "Q6. Create a 3D NumPy array of shape (3, 3, 3) containing random integers\n",
        "\n",
        "between 1 and 10. Perform the following operations:\n",
        "\n",
        " a) Find the indices of the maximum values along each depth level (third axis).\n",
        "\n",
        " b) Perform element-wise multiplication of between both array\n",
        "\n",
        " ans:\n",
        "\n",
        "# Create random integer array\n",
        "\n",
        "arr_int = np.random.randint(1, 11, (5, 6))\n",
        "\n",
        "print(\"Random integer \", arr_int)\n",
        "\n",
        "# Extract even integers\n",
        "\n",
        "even_ints = arr_int[arr_int % 2 == 0]\n",
        "\n",
        "print(\"Even Integers\", even_ints)\n",
        "\n",
        "# Extract odd integers\n",
        "\n",
        "odd_ints = arr_int[arr_int % 2 != 0]\n",
        "\n",
        "print(\"Odd Integers\", odd_ints)"
      ],
      "metadata": {
        "id": "59eO4TV8KnuG"
      }
    },
    {
      "cell_type": "markdown",
      "source": [
        "Q7. Clean and transform the 'Phone' column in the sample dataset to remove\n",
        "\n",
        "non-numeric characters and convert it to a numeric data type. Also display the\n",
        "\n",
        " table attributes and data types of each column?\n",
        "\n",
        "ans:\n",
        "\n",
        "import pandas as pd\n",
        "\n",
        "import re\n",
        "\n",
        "# Load the dataset\n",
        "\n",
        "df = pd.read_csv('data.csv')\n",
        "\n",
        "# Clean the 'Phone' column\n",
        "\n",
        "df['Phone'] = df['Phone'].apply(lambda x: re.sub(r'\\D', '', str(x)))\n",
        "\n",
        "# Convert the 'Phone' column to numeric\n",
        "\n",
        "df['Phone'] = pd.to_numeric(df['Phone'], errors='coerce')\n",
        "\n",
        "# Display table attributes and datatypes\n",
        "\n",
        "print(\"Data Types\", df.dtypes)\n",
        "\n",
        "print(\"Data\", df.head())\n"
      ],
      "metadata": {
        "id": "5Qfg-XgTLTMh"
      }
    },
    {
      "cell_type": "markdown",
      "source": [
        "q8. Perform the following tasks using people dataset:\n",
        "\n",
        " a) Read the 'data.csv' file using pandas, skipping the first 50 rows.\n",
        "\n",
        " b) Only read the columns: 'Last Name', ‘Gender’,’Email’,‘Phone’ and ‘Salary’\n",
        "\n",
        " from the file.\n",
        "\n",
        " c) Display the first 10 rows of the filtered dataset.\n",
        "\n",
        " d) Extract the ‘Salary’' column as a Series and display its last 5 values?\n",
        "\n",
        " ans:\n",
        " # a) Read the 'data.csv' file, skipping the first 50 rows\n",
        "\n",
        "df_people = pd.read_csv('data.csv', skiprows=50)\n",
        "\n",
        "# b) Read specific columns\n",
        "\n",
        "df_filtered = df_people[['Last Name', 'Gender', 'Email', 'Phone', 'Salary']]\n",
        "\n",
        "# c) Display the first 10 rows\n",
        "\n",
        "print(\"First 10 Rows\", df_filtered.head(10))\n",
        "\n",
        "# d) Extract 'Salary' column as Series and display last 5 values\n",
        "\n",
        "salary_series = df_filtered['Salary']\n",
        "\n",
        "print(\"Last 5 Salary Values\", salary_series.tail(5))\n"
      ],
      "metadata": {
        "id": "fmCr1KYPMCHc"
      }
    },
    {
      "cell_type": "markdown",
      "source": [
        "Q9. Filter and select rows from the People_Dataset, where the “Last Name'\n",
        "\n",
        "column contains the name 'Duke', 'Gender' column contains the word Female and\n",
        "\n",
        "‘Salary’ should be less than 85000?\n",
        "\n",
        "ans:\n",
        "\n",
        "# Filter based on 'Last Name', 'Gender', and 'Salary'\n",
        "\n",
        "filtered_df = df_filtered[(df_filtered['Last Name'].str.contains('Duke')) &\n",
        "                          (df_filtered['Gender'] == 'Female') &\n",
        "                          (df_filtered['Salary'] < 85000)]\n",
        "                          \n",
        "print(\"Filtered Data\", filtered_df)\n"
      ],
      "metadata": {
        "id": "38d-tFSYMCEB"
      }
    },
    {
      "cell_type": "markdown",
      "source": [
        "Q10. Create a 7*5 Dataframe in Pandas using a series generated from 35 random\n",
        "\n",
        " integers between 1 to 6?\n",
        "\n",
        "ans:\n",
        "\n",
        "# Create a DataFrame from 35 random integers between 1 and 6\n",
        "\n",
        "df_random = pd.DataFrame(np.random.randint(1, 7, 35).reshape(7, 5), columns=list('ABCDE'))\n",
        "\n",
        "print(\"Random Integer DataFrame\", df_random)"
      ],
      "metadata": {
        "id": "09ay6MpBM9bl"
      }
    },
    {
      "cell_type": "code",
      "source": [],
      "metadata": {
        "id": "IPKQJ3DTIbec"
      },
      "execution_count": null,
      "outputs": []
    }
  ]
}